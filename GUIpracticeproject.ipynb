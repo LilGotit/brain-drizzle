{
 "cells": [
  {
   "attachments": {},
   "cell_type": "markdown",
   "metadata": {},
   "source": [
    "In addition to working on other facets of my coding, I've also wanted to attempt a GUI. Definitely a nice side project to sink some time into.\n",
    "\n",
    "Oops. I had to fire an e-mail to my professor. I can't pull up the assignment file, so I've asked him to send me the project again.\n",
    "\n",
    "Tall order, but should hear something soon. Can also work on other projects."
   ]
  },
  {
   "attachments": {},
   "cell_type": "markdown",
   "metadata": {},
   "source": [
    "UPDATE: Good news, bad news. The bad news is that my professor did not send me the assignment. The good news is that my professor sent me a myriad of resources and recommendations on creating my first GUI program. Even if it's some basic calculation, I'd like to watch the videos he has recommended, and give tkinter a shot. That will be much of my work for today, on this end."
   ]
  },
  {
   "attachments": {},
   "cell_type": "markdown",
   "metadata": {},
   "source": [
    "Minor, but significant update here. Not sure when I'll jump back into progressing on my first GUI program, but I do know that I will want to make something for my 6 year old son. Whether it's simple math, sight words, or something else...I would like for him to be able to use it. He will be the audience. Education will be the goal."
   ]
  },
  {
   "attachments": {},
   "cell_type": "markdown",
   "metadata": {},
   "source": [
    "Having more time to think, I am leaning towards a project in which I perhaps utilize an RNG and a database of sight words, get a simple setup going. To really get some depth, I'll get feedback from my son, and figure out how to address his criticisms. A fun exercise on a process, layered on top of an educational goal, layered upon a purpose to practice."
   ]
  },
  {
   "attachments": {},
   "cell_type": "markdown",
   "metadata": {},
   "source": [
    "Figuring some type of regular database entry system, for his week-specific sight words."
   ]
  },
  {
   "attachments": {},
   "cell_type": "markdown",
   "metadata": {},
   "source": [
    "Going to get on that this week. Eventually."
   ]
  },
  {
   "cell_type": "code",
   "execution_count": 1,
   "metadata": {},
   "outputs": [],
   "source": [
    "from tkinter import * \n",
    "\n",
    "class Application(Frame):\n",
    "\n",
    "    def __init__(self): \n",
    "        Frame.__init__(self)\n",
    "        self.master.title(\"KM 2 Miles\")\n",
    "        self.grid() \n",
    "         \n",
    "        self._kilometers = StringVar() \n",
    "        self._kmEntry = Entry(self, width=10, textvariable = self._kilometers) \n",
    "        self._kmEntry.grid(row=0, column=1, pady=10) \n",
    "     \n",
    "        Label(self, text=\"Kilometers\").grid(row=0, column=2, padx=3, pady=10) \n",
    "         \n",
    "        self._button = Button(self, text = \"Calculate\", command = self._convert) \n",
    "         \n",
    "        self._button.grid(row=1, column=1, padx=5, pady=5) \n",
    "\n",
    "        Label(self, text=\"is equivalent to\").grid(row=3, column=0, padx=5, pady=5) \n",
    "\n",
    "        self._miles = StringVar() \n",
    "        Label(self, textvariable=self._miles).grid(row=3, column=1) \n",
    "        Label(self, text=\"miles\").grid(row=3, column=2, padx=5, pady=5) \n",
    "\n",
    "\n",
    "    def _convert(self): \n",
    "        km = float(self._kilometers.get()) \n",
    "        self._miles.set(round(km / 1.6093, 1)) \n",
    "        \n",
    "\n",
    "def main(): \n",
    "    Application().mainloop()\n",
    "\n",
    "main()"
   ]
  },
  {
   "attachments": {},
   "cell_type": "markdown",
   "metadata": {},
   "source": [
    "I broke this badly XD"
   ]
  },
  {
   "attachments": {},
   "cell_type": "markdown",
   "metadata": {},
   "source": [
    "Success! km to mi conversion. Simple execution. Now, let's mix it up.    "
   ]
  }
 ],
 "metadata": {
  "kernelspec": {
   "display_name": "Python 3",
   "language": "python",
   "name": "python3"
  },
  "language_info": {
   "codemirror_mode": {
    "name": "ipython",
    "version": 3
   },
   "file_extension": ".py",
   "mimetype": "text/x-python",
   "name": "python",
   "nbconvert_exporter": "python",
   "pygments_lexer": "ipython3",
   "version": "3.9.13"
  },
  "orig_nbformat": 4
 },
 "nbformat": 4,
 "nbformat_minor": 2
}
