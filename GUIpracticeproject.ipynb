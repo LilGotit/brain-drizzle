{
 "cells": [
  {
   "attachments": {},
   "cell_type": "markdown",
   "metadata": {},
   "source": [
    "In addition to working on other facets of my coding, I've also wanted to attempt a GUI. Definitely a nice side project to sink some time into.\n",
    "\n",
    "Oops. I had to fire an e-mail to my professor. I can't pull up the assignment file, so I've asked him to send me the project again.\n",
    "\n",
    "Tall order, but should hear something soon. Can also work on other projects."
   ]
  },
  {
   "attachments": {},
   "cell_type": "markdown",
   "metadata": {},
   "source": [
    "UPDATE: Good news, bad news. The bad news is that my professor did not send me the assignment. The good news is that my professor sent me a myriad of resources and recommendations on creating my first GUI program. Even if it's some basic calculation, I'd like to watch the videos he has recommended, and give tkinter a shot. That will be much of my work for today, on this end."
   ]
  }
 ],
 "metadata": {
  "language_info": {
   "name": "python"
  },
  "orig_nbformat": 4
 },
 "nbformat": 4,
 "nbformat_minor": 2
}
