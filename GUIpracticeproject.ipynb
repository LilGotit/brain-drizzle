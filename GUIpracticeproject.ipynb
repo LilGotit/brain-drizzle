{
 "cells": [
  {
   "attachments": {},
   "cell_type": "markdown",
   "metadata": {},
   "source": [
    "In addition to working on other facets of my coding, I've also wanted to attempt a GUI. Definitely a nice side project to sink some time into.\n",
    "\n",
    "Oops. I had to fire an e-mail to my professor. I can't pull up the assignment file, so I've asked him to send me the project again.\n",
    "\n",
    "Tall order, but should hear something soon. Can also work on other projects."
   ]
  },
  {
   "cell_type": "code",
   "execution_count": null,
   "metadata": {},
   "outputs": [],
   "source": []
  }
 ],
 "metadata": {
  "language_info": {
   "name": "python"
  },
  "orig_nbformat": 4
 },
 "nbformat": 4,
 "nbformat_minor": 2
}
