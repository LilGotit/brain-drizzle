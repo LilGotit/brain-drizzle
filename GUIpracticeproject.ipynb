{
 "cells": [
  {
   "attachments": {},
   "cell_type": "markdown",
   "metadata": {},
   "source": [
    "In addition to working on other facets of my coding, I've also wanted to attempt a GUI. Definitely a nice side project to sink some time into.\n",
    "\n",
    "Oops. I had to fire an e-mail to my professor. I can't pull up the assignment file, so I've asked him to send me the project again.\n",
    "\n",
    "Tall order, but should hear something soon. Can also work on other projects."
   ]
  },
  {
   "attachments": {},
   "cell_type": "markdown",
   "metadata": {},
   "source": [
    "UPDATE: Good news, bad news. The bad news is that my professor did not send me the assignment. The good news is that my professor sent me a myriad of resources and recommendations on creating my first GUI program. Even if it's some basic calculation, I'd like to watch the videos he has recommended, and give tkinter a shot. That will be much of my work for today, on this end."
   ]
  },
  {
   "attachments": {},
   "cell_type": "markdown",
   "metadata": {},
   "source": [
    "Minor, but significant update here. Not sure when I'll jump back into progressing on my first GUI program, but I do know that I will want to make something for my 6 year old son. Whether it's simple math, sight words, or something else...I would like for him to be able to use it. He will be the audience. Education will be the goal."
   ]
  },
  {
   "attachments": {},
   "cell_type": "markdown",
   "metadata": {},
   "source": [
    "Having more time to think, I am leaning towards a project in which I perhaps utilize an RNG and a database of sight words, get a simple setup going. To really get some depth, I'll get feedback from my son, and figure out how to address his criticisms. A fun exercise on a process, layered on top of an educational goal, layered upon a purpose to practice."
   ]
  }
 ],
 "metadata": {
  "language_info": {
   "name": "python"
  },
  "orig_nbformat": 4
 },
 "nbformat": 4,
 "nbformat_minor": 2
}
