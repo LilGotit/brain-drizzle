{
 "cells": [
  {
   "attachments": {},
   "cell_type": "markdown",
   "metadata": {},
   "source": [
    "Finishing a large segment of SQL work today. Very much aim to incorporate it in the future, maybe redo some code with it, versus pandas joins and other methods."
   ]
  },
  {
   "attachments": {},
   "cell_type": "markdown",
   "metadata": {},
   "source": [
    "Should be one of the last days with these minor updates, as I will be finishing my college studies, which will give me far more time to dedicate to skill building. Just overnight, I went from petrified by a left join to fully confident in its use. I am by no means finished learning SQL, but I traversed a significant portion of the learning curve, and I'm excited."
   ]
  },
  {
   "attachments": {},
   "cell_type": "markdown",
   "metadata": {},
   "source": [
    "And then I missed a check-in. Oops!"
   ]
  },
  {
   "attachments": {},
   "cell_type": "markdown",
   "metadata": {},
   "source": [
    "I really enjoy the idea of returning to previous projects and bits of code, and seeing where I can use SQL instead."
   ]
  }
 ],
 "metadata": {
  "language_info": {
   "name": "python"
  },
  "orig_nbformat": 4
 },
 "nbformat": 4,
 "nbformat_minor": 2
}
