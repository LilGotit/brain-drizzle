{
 "cells": [
  {
   "attachments": {},
   "cell_type": "markdown",
   "metadata": {},
   "source": [
    "Finishing a large segment of SQL work today. Very much aim to incorporate it in the future, maybe redo some code with it, versus pandas joins and other methods."
   ]
  },
  {
   "attachments": {},
   "cell_type": "markdown",
   "metadata": {},
   "source": [
    "Should be one of the last days with these minor updates, as I will be finishing my college studies, which will give me far more time to dedicate to skill building. Just overnight, I went from petrified by a left join to fully confident in its use. I am by no means finished learning SQL, but I traversed a significant portion of the learning curve, and I'm excited."
   ]
  },
  {
   "attachments": {},
   "cell_type": "markdown",
   "metadata": {},
   "source": [
    "And then I missed a check-in. Oops!"
   ]
  },
  {
   "attachments": {},
   "cell_type": "markdown",
   "metadata": {},
   "source": [
    "I really enjoy the idea of returning to previous projects and bits of code, and seeing where I can use SQL instead."
   ]
  },
  {
   "attachments": {},
   "cell_type": "markdown",
   "metadata": {},
   "source": [
    "Reminding myself to delve within my Python work to find the code to get me started on this SQL project."
   ]
  },
  {
   "attachments": {},
   "cell_type": "markdown",
   "metadata": {},
   "source": [
    "Also going to proceed when I get finished with the last of my SQL college class. I only have two assignments and an exam left."
   ]
  },
  {
   "attachments": {},
   "cell_type": "markdown",
   "metadata": {},
   "source": [
    "Still busy in the last couple weeks of finishing my final semester, but I'll be done by the 5th. Hope to make at least one \"conversion\" project by the 21st."
   ]
  }
 ],
 "metadata": {
  "language_info": {
   "name": "python"
  },
  "orig_nbformat": 4
 },
 "nbformat": 4,
 "nbformat_minor": 2
}
