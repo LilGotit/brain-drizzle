{
 "cells": [
  {
   "attachments": {},
   "cell_type": "markdown",
   "metadata": {},
   "source": [
    "Inspired by getting a better grip of the concept of a list's mutability, I wanted to play around with appending and adding things."
   ]
  },
  {
   "cell_type": "code",
   "execution_count": 11,
   "metadata": {},
   "outputs": [
    {
     "name": "stdout",
     "output_type": "stream",
     "text": [
      "[('Me', 'Myself', 'I')]\n"
     ]
    }
   ],
   "source": [
    "DeLaSoul = []\n",
    "Single = (\"Me\", \"Myself\", \"I\")\n",
    "DeLaSoul.append(Single)\n",
    "print(DeLaSoul)"
   ]
  },
  {
   "cell_type": "code",
   "execution_count": 9,
   "metadata": {},
   "outputs": [
    {
     "name": "stdout",
     "output_type": "stream",
     "text": [
      "['Me', 'Myself', 'I']\n"
     ]
    }
   ],
   "source": [
    "TakeTwo = []\n",
    "TakeTwo.append(\"Me\")\n",
    "TakeTwo.append(\"Myself\")\n",
    "TakeTwo.append(\"I\")\n",
    "print(TakeTwo)"
   ]
  },
  {
   "attachments": {},
   "cell_type": "markdown",
   "metadata": {},
   "source": [
    "I also wanted some tuple practice, considering it is immutable."
   ]
  },
  {
   "cell_type": "code",
   "execution_count": 7,
   "metadata": {},
   "outputs": [
    {
     "name": "stdout",
     "output_type": "stream",
     "text": [
      "('Me', 'Myself', 'I')\n"
     ]
    }
   ],
   "source": [
    "DeLaSoul = ()\n",
    "Single = (\"Me\", \"Myself\", \"I\")\n",
    "DeLaSoul = Single\n",
    "print(DeLaSoul)"
   ]
  },
  {
   "cell_type": "code",
   "execution_count": 10,
   "metadata": {},
   "outputs": [
    {
     "name": "stdout",
     "output_type": "stream",
     "text": [
      "('Me', 'Myself', 'I')\n"
     ]
    }
   ],
   "source": [
    "DeLaSoul = []\n",
    "Single = (\"Me\", \"Myself\", \"I\")\n",
    "DeLaSoul = Single\n",
    "print(DeLaSoul)"
   ]
  },
  {
   "attachments": {},
   "cell_type": "markdown",
   "metadata": {},
   "source": [
    "Most interesting is that you can make a variable a list, but the immutability of the tuple \"takes over\" - you don't make an alias, you actually copy over"
   ]
  }
 ],
 "metadata": {
  "kernelspec": {
   "display_name": "Python 3",
   "language": "python",
   "name": "python3"
  },
  "language_info": {
   "codemirror_mode": {
    "name": "ipython",
    "version": 3
   },
   "file_extension": ".py",
   "mimetype": "text/x-python",
   "name": "python",
   "nbconvert_exporter": "python",
   "pygments_lexer": "ipython3",
   "version": "3.9.13"
  },
  "orig_nbformat": 4
 },
 "nbformat": 4,
 "nbformat_minor": 2
}
