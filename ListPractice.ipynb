{
 "cells": [
  {
   "attachments": {},
   "cell_type": "markdown",
   "metadata": {},
   "source": [
    "Inspired by getting a better grip of the concept of a list's mutability, I wanted to play around with appending and adding things."
   ]
  },
  {
   "cell_type": "code",
   "execution_count": 6,
   "metadata": {},
   "outputs": [
    {
     "name": "stdout",
     "output_type": "stream",
     "text": [
      "[('Me', 'Myself', 'I')]\n"
     ]
    }
   ],
   "source": [
    "DeLaSoul = []\n",
    "Single = (\"Me\", \"Myself\", \"I\")\n",
    "DeLaSoul.append(Single)\n",
    "print(DeLaSoul)"
   ]
  },
  {
   "cell_type": "code",
   "execution_count": 7,
   "metadata": {},
   "outputs": [
    {
     "name": "stdout",
     "output_type": "stream",
     "text": [
      "['Me', 'Myself', 'I']\n"
     ]
    }
   ],
   "source": [
    "TakeTwo = []\n",
    "TakeTwo.append(\"Me\")\n",
    "TakeTwo.append(\"Myself\")\n",
    "TakeTwo.append(\"I\")\n",
    "print(TakeTwo)"
   ]
  },
  {
   "attachments": {},
   "cell_type": "markdown",
   "metadata": {},
   "source": [
    "I also wanted some tuple practice, considering it is immutable."
   ]
  },
  {
   "cell_type": "code",
   "execution_count": 8,
   "metadata": {},
   "outputs": [
    {
     "name": "stdout",
     "output_type": "stream",
     "text": [
      "('Me', 'Myself', 'I')\n"
     ]
    }
   ],
   "source": [
    "Third = ()\n",
    "one = (\"Me\", \"Myself\", \"I\")\n",
    "Third = one\n",
    "print(Third)"
   ]
  },
  {
   "cell_type": "code",
   "execution_count": 9,
   "metadata": {},
   "outputs": [
    {
     "name": "stdout",
     "output_type": "stream",
     "text": [
      "('Me', 'Myself', 'I')\n"
     ]
    }
   ],
   "source": [
    "Fourth = []\n",
    "uno = (\"Me\", \"Myself\", \"I\")\n",
    "Fourth = uno\n",
    "print(Fourth)"
   ]
  },
  {
   "attachments": {},
   "cell_type": "markdown",
   "metadata": {},
   "source": [
    "Most interesting is that you can make a variable a list, but the immutability of the tuple \"takes over\" - you don't make an alias, you actually copy over"
   ]
  },
  {
   "cell_type": "code",
   "execution_count": 10,
   "metadata": {},
   "outputs": [
    {
     "ename": "AttributeError",
     "evalue": "'tuple' object has no attribute 'append'",
     "output_type": "error",
     "traceback": [
      "\u001b[1;31m---------------------------------------------------------------------------\u001b[0m",
      "\u001b[1;31mAttributeError\u001b[0m                            Traceback (most recent call last)",
      "\u001b[1;32mc:\\Users\\uponu\\OneDrive\\Documents\\Git Repository\\ListPractice.ipynb Cell 8\u001b[0m in \u001b[0;36m1\n\u001b[1;32m----> <a href='vscode-notebook-cell:/c%3A/Users/uponu/OneDrive/Documents/Git%20Repository/ListPractice.ipynb#X10sZmlsZQ%3D%3D?line=0'>1</a>\u001b[0m Third\u001b[39m.\u001b[39;49mappend(\u001b[39m\"\u001b[39m\u001b[39mEgo\u001b[39m\u001b[39m\"\u001b[39m)\n\u001b[0;32m      <a href='vscode-notebook-cell:/c%3A/Users/uponu/OneDrive/Documents/Git%20Repository/ListPractice.ipynb#X10sZmlsZQ%3D%3D?line=1'>2</a>\u001b[0m \u001b[39mprint\u001b[39m(Third)\n",
      "\u001b[1;31mAttributeError\u001b[0m: 'tuple' object has no attribute 'append'"
     ]
    }
   ],
   "source": [
    "Third.append(\"Ego\")\n",
    "print(Third)"
   ]
  },
  {
   "attachments": {},
   "cell_type": "markdown",
   "metadata": {},
   "source": [
    "Of course a tuple can't append...but..."
   ]
  },
  {
   "cell_type": "code",
   "execution_count": null,
   "metadata": {},
   "outputs": [],
   "source": [
    "Fourth.append(\"Ego\")\n",
    "print(Fourth)"
   ]
  },
  {
   "attachments": {},
   "cell_type": "markdown",
   "metadata": {},
   "source": [
    "This won't work, because the list is no longer a list, it's a tuple. And that can't be appended."
   ]
  },
  {
   "cell_type": "code",
   "execution_count": 11,
   "metadata": {},
   "outputs": [
    {
     "ename": "AttributeError",
     "evalue": "'tuple' object has no attribute 'append'",
     "output_type": "error",
     "traceback": [
      "\u001b[1;31m---------------------------------------------------------------------------\u001b[0m",
      "\u001b[1;31mAttributeError\u001b[0m                            Traceback (most recent call last)",
      "\u001b[1;32mc:\\Users\\uponu\\OneDrive\\Documents\\Git Repository\\ListPractice.ipynb Cell 12\u001b[0m in \u001b[0;36m2\n\u001b[0;32m      <a href='vscode-notebook-cell:/c%3A/Users/uponu/OneDrive/Documents/Git%20Repository/ListPractice.ipynb#X14sZmlsZQ%3D%3D?line=0'>1</a>\u001b[0m \u001b[39mlist\u001b[39m(Third)\n\u001b[1;32m----> <a href='vscode-notebook-cell:/c%3A/Users/uponu/OneDrive/Documents/Git%20Repository/ListPractice.ipynb#X14sZmlsZQ%3D%3D?line=1'>2</a>\u001b[0m Third\u001b[39m.\u001b[39;49mappend(\u001b[39m\"\u001b[39m\u001b[39mEgo\u001b[39m\u001b[39m\"\u001b[39m)\n\u001b[0;32m      <a href='vscode-notebook-cell:/c%3A/Users/uponu/OneDrive/Documents/Git%20Repository/ListPractice.ipynb#X14sZmlsZQ%3D%3D?line=2'>3</a>\u001b[0m \u001b[39mprint\u001b[39m(Third)\n",
      "\u001b[1;31mAttributeError\u001b[0m: 'tuple' object has no attribute 'append'"
     ]
    }
   ],
   "source": [
    "list(Third)\n",
    "Third.append(\"Ego\")\n",
    "print(Third)"
   ]
  },
  {
   "attachments": {},
   "cell_type": "markdown",
   "metadata": {},
   "source": [
    "I am interested in how to untangle the tuple into a list again"
   ]
  }
 ],
 "metadata": {
  "kernelspec": {
   "display_name": "Python 3",
   "language": "python",
   "name": "python3"
  },
  "language_info": {
   "codemirror_mode": {
    "name": "ipython",
    "version": 3
   },
   "file_extension": ".py",
   "mimetype": "text/x-python",
   "name": "python",
   "nbconvert_exporter": "python",
   "pygments_lexer": "ipython3",
   "version": "3.9.13"
  },
  "orig_nbformat": 4
 },
 "nbformat": 4,
 "nbformat_minor": 2
}
