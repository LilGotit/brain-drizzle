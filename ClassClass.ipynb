{
 "cells": [
  {
   "attachments": {},
   "cell_type": "markdown",
   "metadata": {},
   "source": [
    "My learning weakness is classes, and I would like to make a few, and get some practice."
   ]
  },
  {
   "cell_type": "code",
   "execution_count": 14,
   "metadata": {},
   "outputs": [
    {
     "name": "stdout",
     "output_type": "stream",
     "text": [
      "We have 3 friends.\n"
     ]
    }
   ],
   "source": [
    "class Friend():\n",
    "\n",
    "    NUM_FRIENDS = 0\n",
    "\n",
    "    @staticmethod\n",
    "    def getCount():\n",
    "        return Friend.NUM_FRIENDS\n",
    "\n",
    "    def __init__(self, name, pronoun, gender):\n",
    "        self._friendRecord = []\n",
    "        self._friendRecord.append(name)\n",
    "        self._friendRecord.append(pronoun)\n",
    "        self._friendRecord.append(gender)\n",
    "        Friend.NUM_FRIENDS += 1\n",
    "\n",
    "    def getRecord(self):\n",
    "        return self._friendRecord\n",
    "\n",
    "\n",
    "john = Friend(\"John\", \"he/him\", \"male\")   \n",
    "linda = Friend(\"Linda\", \"she/her\", \"female\")\n",
    "enbee = Friend(\"Enbee\", \"they/them\", \"non-binary\")\n",
    "\n",
    "print(\"We have\", Friend.getCount(), \"friends.\")"
   ]
  },
  {
   "attachments": {},
   "cell_type": "markdown",
   "metadata": {},
   "source": [
    "Still trying to figure how to get the counts out of the class. Have trouble initializing."
   ]
  },
  {
   "cell_type": "code",
   "execution_count": 15,
   "metadata": {},
   "outputs": [],
   "source": [
    "sam = Friend(\"Sam\", \"they/them\", \"non-binary\")\n",
    "vic = Friend(\"Vic\", \"he/him\", \"male\")"
   ]
  },
  {
   "cell_type": "code",
   "execution_count": 18,
   "metadata": {},
   "outputs": [
    {
     "name": "stdout",
     "output_type": "stream",
     "text": [
      "We now have 5 friends.\n"
     ]
    },
    {
     "data": {
      "text/plain": [
       "<function __main__.Friend.getRecord(self)>"
      ]
     },
     "execution_count": 18,
     "metadata": {},
     "output_type": "execute_result"
    }
   ],
   "source": [
    "print(\"We now have\", Friend.getCount(), \"friends.\")\n",
    "\n",
    "Friend.getRecord"
   ]
  },
  {
   "attachments": {},
   "cell_type": "markdown",
   "metadata": {},
   "source": [
    "I'm still not sure how to pull the list of friends, hah."
   ]
  }
 ],
 "metadata": {
  "kernelspec": {
   "display_name": "Python 3",
   "language": "python",
   "name": "python3"
  },
  "language_info": {
   "codemirror_mode": {
    "name": "ipython",
    "version": 3
   },
   "file_extension": ".py",
   "mimetype": "text/x-python",
   "name": "python",
   "nbconvert_exporter": "python",
   "pygments_lexer": "ipython3",
   "version": "3.9.13"
  },
  "orig_nbformat": 4
 },
 "nbformat": 4,
 "nbformat_minor": 2
}
