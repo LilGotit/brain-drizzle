{
 "cells": [
  {
   "attachments": {},
   "cell_type": "markdown",
   "metadata": {},
   "source": [
    "My learning weakness is classes, and I would like to make a few, and get some practice."
   ]
  },
  {
   "cell_type": "code",
   "execution_count": 1,
   "metadata": {},
   "outputs": [
    {
     "name": "stdout",
     "output_type": "stream",
     "text": [
      "We have 3 friends.\n"
     ]
    }
   ],
   "source": [
    "class Friend():\n",
    "\n",
    "    NUM_FRIENDS = 0\n",
    "    friendRecord = []\n",
    "\n",
    "    @staticmethod\n",
    "    def getCount():\n",
    "        return Friend.NUM_FRIENDS\n",
    "\n",
    "    def __init__(self, name, pronoun, gender):\n",
    "        self.name = name\n",
    "        self.friendRecord.append(name)\n",
    "        self.friendRecord.append(pronoun)\n",
    "        self.friendRecord.append(gender)\n",
    "        Friend.NUM_FRIENDS += 1\n",
    "\n",
    "    def getRecord():\n",
    "        return Friend.friendRecord\n",
    "\n",
    "john = Friend(\"John\", \"he/him\", \"male\")   \n",
    "linda = Friend(\"Linda\", \"she/her\", \"female\")\n",
    "enbee = Friend(\"Enbee\", \"they/them\", \"non-binary\")\n",
    "\n",
    "print(\"We have\", Friend.getCount(), \"friends.\")"
   ]
  },
  {
   "attachments": {},
   "cell_type": "markdown",
   "metadata": {},
   "source": [
    "Still trying to figure how to get the counts out of the class. Having trouble initializing."
   ]
  },
  {
   "cell_type": "code",
   "execution_count": 2,
   "metadata": {},
   "outputs": [],
   "source": [
    "sam = Friend(\"Sam\", \"they/them\", \"non-binary\")\n",
    "vic = Friend(\"Vic\", \"he/him\", \"male\")"
   ]
  },
  {
   "cell_type": "code",
   "execution_count": 3,
   "metadata": {},
   "outputs": [
    {
     "name": "stdout",
     "output_type": "stream",
     "text": [
      "We now have 5 friends.\n"
     ]
    },
    {
     "data": {
      "text/plain": [
       "['John',\n",
       " 'he/him',\n",
       " 'male',\n",
       " 'Linda',\n",
       " 'she/her',\n",
       " 'female',\n",
       " 'Enbee',\n",
       " 'they/them',\n",
       " 'non-binary',\n",
       " 'Sam',\n",
       " 'they/them',\n",
       " 'non-binary',\n",
       " 'Vic',\n",
       " 'he/him',\n",
       " 'male']"
      ]
     },
     "execution_count": 3,
     "metadata": {},
     "output_type": "execute_result"
    }
   ],
   "source": [
    "print(\"We now have\", Friend.getCount(), \"friends.\")\n",
    "\n",
    "Friend.getRecord()"
   ]
  },
  {
   "attachments": {},
   "cell_type": "markdown",
   "metadata": {},
   "source": [
    "I'm still not sure how to pull the list of friends, hah.\n",
    "Still spitballing and getting errors. Can't wait to get over this hump."
   ]
  },
  {
   "attachments": {},
   "cell_type": "markdown",
   "metadata": {},
   "source": [
    "got it! Had to remove the self reference from the class method!"
   ]
  },
  {
   "cell_type": "code",
   "execution_count": 4,
   "metadata": {},
   "outputs": [
    {
     "name": "stdout",
     "output_type": "stream",
     "text": [
      "['Enbee', 'John', 'Linda', 'Sam', 'Vic', 'female', 'he/him', 'he/him', 'male', 'male', 'non-binary', 'non-binary', 'she/her', 'they/them', 'they/them']\n"
     ]
    }
   ],
   "source": [
    "a = Friend.getRecord()\n",
    "\n",
    "a.sort()\n",
    "\n",
    "print(a)\n"
   ]
  },
  {
   "cell_type": "code",
   "execution_count": 5,
   "metadata": {},
   "outputs": [
    {
     "name": "stdout",
     "output_type": "stream",
     "text": [
      "We now have 7 friends.\n"
     ]
    },
    {
     "data": {
      "text/plain": [
       "['Enbee',\n",
       " 'John',\n",
       " 'Linda',\n",
       " 'Sam',\n",
       " 'Vic',\n",
       " 'female',\n",
       " 'he/him',\n",
       " 'he/him',\n",
       " 'male',\n",
       " 'male',\n",
       " 'non-binary',\n",
       " 'non-binary',\n",
       " 'she/her',\n",
       " 'they/them',\n",
       " 'they/them',\n",
       " 'Jim',\n",
       " 'he/him',\n",
       " 'male',\n",
       " 'Libby',\n",
       " 'she/her',\n",
       " 'female']"
      ]
     },
     "execution_count": 5,
     "metadata": {},
     "output_type": "execute_result"
    }
   ],
   "source": [
    "jim = Friend(\"Jim\", \"he/him\", \"male\")\n",
    "Libby = Friend(\"Libby\", \"she/her\", \"female\")\n",
    "\n",
    "print(\"We now have\", Friend.getCount(), \"friends.\")\n",
    "Friend.getRecord()"
   ]
  },
  {
   "attachments": {},
   "cell_type": "markdown",
   "metadata": {},
   "source": [
    "I sent the list to a variable, and I figured it would snapshot, but it actually sorted the class list permanently!\n",
    "I'm most interested in how the count went up three times the previous rate (!!!)"
   ]
  },
  {
   "cell_type": "code",
   "execution_count": 6,
   "metadata": {},
   "outputs": [
    {
     "name": "stdout",
     "output_type": "stream",
     "text": [
      "['Enbee', 'John', 'Linda', 'Sam', 'Vic', 'female', 'he/him', 'he/him', 'male', 'male', 'non-binary', 'non-binary', 'she/her', 'they/them', 'they/them', 'Jim', 'he/him', 'male', 'Libby', 'she/her', 'female']\n"
     ]
    },
    {
     "data": {
      "text/plain": [
       "7"
      ]
     },
     "execution_count": 6,
     "metadata": {},
     "output_type": "execute_result"
    }
   ],
   "source": [
    "print(a)\n",
    "Friend.getCount()"
   ]
  },
  {
   "attachments": {},
   "cell_type": "markdown",
   "metadata": {},
   "source": [
    "The class record is still sorted, but unlike my previous viewing, I don't see a count of 11(!!!). It is the correct count. Interesting."
   ]
  },
  {
   "cell_type": "code",
   "execution_count": 7,
   "metadata": {},
   "outputs": [
    {
     "name": "stdout",
     "output_type": "stream",
     "text": [
      "49\n"
     ]
    }
   ],
   "source": [
    "b = Friend.getCount()\n",
    "\n",
    "c = b * b\n",
    "\n",
    "print(c)"
   ]
  },
  {
   "attachments": {},
   "cell_type": "markdown",
   "metadata": {},
   "source": [
    "Getting familiar with how to utilize the alias. Although my toolbox of methods is limited now, this will undoubtedly give me flexibility with the tools I have and will accumulate."
   ]
  },
  {
   "cell_type": "code",
   "execution_count": 8,
   "metadata": {},
   "outputs": [
    {
     "name": "stdout",
     "output_type": "stream",
     "text": [
      "['Enbee', 'John', 'Linda', 'Sam', 'Vic', 'female', 'he/him', 'he/him', 'male', 'male', 'non-binary', 'non-binary', 'she/her', 'they/them', 'they/them', 'Jim', 'he/him', 'male', 'Libby', 'she/her', 'female']\n"
     ]
    }
   ],
   "source": [
    "def list_upper(old):\n",
    "    new = []\n",
    "    for item in old:\n",
    "        new.append(item.upper())\n",
    "    return new\n",
    "\n",
    "list_upper(a)\n",
    "\n",
    "print(a)"
   ]
  },
  {
   "attachments": {},
   "cell_type": "markdown",
   "metadata": {},
   "source": [
    "Trying to figure this out."
   ]
  },
  {
   "attachments": {},
   "cell_type": "markdown",
   "metadata": {},
   "source": [
    "Time to learn some new methods."
   ]
  },
  {
   "cell_type": "code",
   "execution_count": 9,
   "metadata": {},
   "outputs": [
    {
     "name": "stdout",
     "output_type": "stream",
     "text": [
      "3\n"
     ]
    }
   ],
   "source": [
    "malecount = a.count(\"male\")\n",
    "\n",
    "print(malecount)"
   ]
  },
  {
   "attachments": {},
   "cell_type": "markdown",
   "metadata": {},
   "source": [
    "Counting values within a class derived list."
   ]
  },
  {
   "attachments": {},
   "cell_type": "markdown",
   "metadata": {},
   "source": [
    "Now, turning this into a set, which should give us unique values only:"
   ]
  },
  {
   "cell_type": "code",
   "execution_count": 10,
   "metadata": {},
   "outputs": [
    {
     "name": "stdout",
     "output_type": "stream",
     "text": [
      "{'Linda', 'non-binary', 'they/them', 'Vic', 'Enbee', 'Sam', 'he/him', 'she/her', 'female', 'Libby', 'male', 'Jim', 'John'}\n"
     ]
    }
   ],
   "source": [
    "aset = set(a)\n",
    "\n",
    "print(aset)"
   ]
  },
  {
   "attachments": {},
   "cell_type": "markdown",
   "metadata": {},
   "source": [
    "And now I'll turn it back into a list:"
   ]
  },
  {
   "cell_type": "code",
   "execution_count": 11,
   "metadata": {},
   "outputs": [
    {
     "name": "stdout",
     "output_type": "stream",
     "text": [
      "['Linda', 'non-binary', 'they/them', 'Vic', 'Enbee', 'Sam', 'he/him', 'she/her', 'female', 'Libby', 'male', 'Jim', 'John']\n"
     ]
    }
   ],
   "source": [
    "bset = list(aset)\n",
    "\n",
    "print(bset)"
   ]
  },
  {
   "attachments": {},
   "cell_type": "markdown",
   "metadata": {},
   "source": [
    "I can't seem to shake the order now. Interesting."
   ]
  },
  {
   "cell_type": "code",
   "execution_count": 12,
   "metadata": {},
   "outputs": [
    {
     "name": "stdout",
     "output_type": "stream",
     "text": [
      "['Enbee', 'Jim', 'John', 'Libby', 'Linda', 'Sam', 'Vic', 'female', 'female', 'he/him', 'he/him', 'he/him', 'male', 'male', 'male', 'non-binary', 'non-binary', 'she/her', 'she/her', 'they/them', 'they/them']\n"
     ]
    }
   ],
   "source": [
    "a.sort()\n",
    "print(a)"
   ]
  },
  {
   "attachments": {},
   "cell_type": "markdown",
   "metadata": {},
   "source": [
    "Terrific!"
   ]
  }
 ],
 "metadata": {
  "kernelspec": {
   "display_name": "Python 3",
   "language": "python",
   "name": "python3"
  },
  "language_info": {
   "codemirror_mode": {
    "name": "ipython",
    "version": 3
   },
   "file_extension": ".py",
   "mimetype": "text/x-python",
   "name": "python",
   "nbconvert_exporter": "python",
   "pygments_lexer": "ipython3",
   "version": "3.9.13"
  },
  "orig_nbformat": 4
 },
 "nbformat": 4,
 "nbformat_minor": 2
}
