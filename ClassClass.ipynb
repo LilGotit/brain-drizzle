{
 "cells": [
  {
   "attachments": {},
   "cell_type": "markdown",
   "metadata": {},
   "source": [
    "My learning weakness is classes, and I would like to make a few, and get some practice."
   ]
  },
  {
   "cell_type": "code",
   "execution_count": 18,
   "metadata": {},
   "outputs": [
    {
     "name": "stdout",
     "output_type": "stream",
     "text": [
      "We have 3 friends.\n"
     ]
    }
   ],
   "source": [
    "class Friend():\n",
    "\n",
    "    NUM_FRIENDS = 0\n",
    "    friendRecord = []\n",
    "\n",
    "    @staticmethod\n",
    "    def getCount():\n",
    "        return Friend.NUM_FRIENDS\n",
    "\n",
    "    def __init__(self, name, pronoun, gender):\n",
    "        self.name = name\n",
    "        self.friendRecord.append(name)\n",
    "        self.friendRecord.append(pronoun)\n",
    "        self.friendRecord.append(gender)\n",
    "        Friend.NUM_FRIENDS += 1\n",
    "\n",
    "    def getRecord(self):\n",
    "        return Friend.friendRecord\n",
    "\n",
    "john = Friend(\"John\", \"he/him\", \"male\")   \n",
    "linda = Friend(\"Linda\", \"she/her\", \"female\")\n",
    "enbee = Friend(\"Enbee\", \"they/them\", \"non-binary\")\n",
    "\n",
    "print(\"We have\", Friend.getCount(), \"friends.\")"
   ]
  },
  {
   "attachments": {},
   "cell_type": "markdown",
   "metadata": {},
   "source": [
    "Still trying to figure how to get the counts out of the class. Have trouble initializing."
   ]
  },
  {
   "cell_type": "code",
   "execution_count": 19,
   "metadata": {},
   "outputs": [],
   "source": [
    "sam = Friend(\"Sam\", \"they/them\", \"non-binary\")\n",
    "vic = Friend(\"Vic\", \"he/him\", \"male\")"
   ]
  },
  {
   "cell_type": "code",
   "execution_count": 32,
   "metadata": {},
   "outputs": [
    {
     "name": "stdout",
     "output_type": "stream",
     "text": [
      "We now have 5 friends.\n"
     ]
    },
    {
     "ename": "TypeError",
     "evalue": "__init__() missing 3 required positional arguments: 'name', 'pronoun', and 'gender'",
     "output_type": "error",
     "traceback": [
      "\u001b[1;31m---------------------------------------------------------------------------\u001b[0m",
      "\u001b[1;31mTypeError\u001b[0m                                 Traceback (most recent call last)",
      "\u001b[1;32mc:\\Users\\uponu\\OneDrive\\Documents\\Git Repository\\ClassClass.ipynb Cell 5\u001b[0m in \u001b[0;36m3\n\u001b[0;32m      <a href='vscode-notebook-cell:/c%3A/Users/uponu/OneDrive/Documents/Git%20Repository/ClassClass.ipynb#W4sZmlsZQ%3D%3D?line=0'>1</a>\u001b[0m \u001b[39mprint\u001b[39m(\u001b[39m\"\u001b[39m\u001b[39mWe now have\u001b[39m\u001b[39m\"\u001b[39m, Friend\u001b[39m.\u001b[39mgetCount(), \u001b[39m\"\u001b[39m\u001b[39mfriends.\u001b[39m\u001b[39m\"\u001b[39m)\n\u001b[1;32m----> <a href='vscode-notebook-cell:/c%3A/Users/uponu/OneDrive/Documents/Git%20Repository/ClassClass.ipynb#W4sZmlsZQ%3D%3D?line=2'>3</a>\u001b[0m Friend()\u001b[39m.\u001b[39mgetRecord()\n",
      "\u001b[1;31mTypeError\u001b[0m: __init__() missing 3 required positional arguments: 'name', 'pronoun', and 'gender'"
     ]
    }
   ],
   "source": [
    "print(\"We now have\", Friend.getCount(), \"friends.\")\n",
    "\n",
    "Friend().getRecord()"
   ]
  },
  {
   "attachments": {},
   "cell_type": "markdown",
   "metadata": {},
   "source": [
    "I'm still not sure how to pull the list of friends, hah."
   ]
  }
 ],
 "metadata": {
  "kernelspec": {
   "display_name": "Python 3",
   "language": "python",
   "name": "python3"
  },
  "language_info": {
   "codemirror_mode": {
    "name": "ipython",
    "version": 3
   },
   "file_extension": ".py",
   "mimetype": "text/x-python",
   "name": "python",
   "nbconvert_exporter": "python",
   "pygments_lexer": "ipython3",
   "version": "3.9.13"
  },
  "orig_nbformat": 4
 },
 "nbformat": 4,
 "nbformat_minor": 2
}
